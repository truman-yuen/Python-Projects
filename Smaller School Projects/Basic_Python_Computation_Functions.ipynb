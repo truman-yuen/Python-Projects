{
 "cells": [
  {
   "cell_type": "markdown",
   "metadata": {},
   "source": [
    "Assignment 1 - Truman Yuen, 1003914909\n",
    "\n",
    "Note: most comments were made in the markdown cells ABOVE each question."
   ]
  },
  {
   "cell_type": "markdown",
   "metadata": {},
   "source": [
    "1 Python Data and Other Essentials"
   ]
  },
  {
   "cell_type": "markdown",
   "metadata": {},
   "source": [
    "1.) defining the tuple"
   ]
  },
  {
   "cell_type": "code",
   "execution_count": 1504,
   "metadata": {},
   "outputs": [
    {
     "name": "stdout",
     "output_type": "stream",
     "text": [
      "('Google', 'Facebook', 'Amazon', 'Netflix', 'AirBnB', 'Instagram')\n"
     ]
    }
   ],
   "source": [
    "apps_tuple = (\"Google\",\"Facebook\",\"Amazon\",\"Netflix\",\"AirBnB\",\"Instagram\")\n",
    "print(apps_tuple)"
   ]
  },
  {
   "cell_type": "markdown",
   "metadata": {},
   "source": [
    "2.) Indexing the tuple at the 2nd element and the last element"
   ]
  },
  {
   "cell_type": "code",
   "execution_count": 1505,
   "metadata": {},
   "outputs": [
    {
     "name": "stdout",
     "output_type": "stream",
     "text": [
      "Facebook Instagram\n"
     ]
    }
   ],
   "source": [
    "print(apps_tuple[1], apps_tuple[-1])"
   ]
  },
  {
   "cell_type": "markdown",
   "metadata": {},
   "source": [
    "3.) Inclusive slice from \"Facebook\" to \"Netflix\""
   ]
  },
  {
   "cell_type": "code",
   "execution_count": 1506,
   "metadata": {},
   "outputs": [
    {
     "name": "stdout",
     "output_type": "stream",
     "text": [
      "('Facebook', 'Amazon', 'Netflix')\n"
     ]
    }
   ],
   "source": [
    "inclusive_slice = apps_tuple[1:4]\n",
    "print(inclusive_slice)"
   ]
  },
  {
   "cell_type": "markdown",
   "metadata": {},
   "source": [
    "4.) appending \"Messenger\" to the existing tuple: apps_tuple"
   ]
  },
  {
   "cell_type": "code",
   "execution_count": 1507,
   "metadata": {},
   "outputs": [
    {
     "name": "stdout",
     "output_type": "stream",
     "text": [
      "('Google', 'Facebook', 'Amazon', 'Netflix', 'AirBnB', 'Instagram', 'Messenger')\n"
     ]
    }
   ],
   "source": [
    "apps_tuple = apps_tuple + (\"Messenger\",)\n",
    "print(apps_tuple)"
   ]
  },
  {
   "cell_type": "markdown",
   "metadata": {},
   "source": [
    "You must concatenate/append a tuple type to a tuple, the argument cannot be a str/int"
   ]
  },
  {
   "cell_type": "markdown",
   "metadata": {},
   "source": [
    "1.2 Lists"
   ]
  },
  {
   "cell_type": "markdown",
   "metadata": {},
   "source": [
    "1.) creating a list with the same contents as apps_tuple"
   ]
  },
  {
   "cell_type": "code",
   "execution_count": 1508,
   "metadata": {},
   "outputs": [
    {
     "name": "stdout",
     "output_type": "stream",
     "text": [
      "['Google', 'Facebook', 'Amazon', 'Netflix', 'AirBnB', 'Instagram']\n"
     ]
    }
   ],
   "source": [
    "apps_list = [\"Google\",\"Facebook\",\"Amazon\",\"Netflix\",\"AirBnB\",\"Instagram\"]\n",
    "print(apps_list)"
   ]
  },
  {
   "cell_type": "markdown",
   "metadata": {},
   "source": [
    "2.) slicing the first 3 elements of the list"
   ]
  },
  {
   "cell_type": "code",
   "execution_count": 1509,
   "metadata": {},
   "outputs": [
    {
     "name": "stdout",
     "output_type": "stream",
     "text": [
      "['Google', 'Facebook', 'Amazon']\n"
     ]
    }
   ],
   "source": [
    "print(apps_list[:3])"
   ]
  },
  {
   "cell_type": "markdown",
   "metadata": {},
   "source": [
    "3.) slicing the list past the 3rd element"
   ]
  },
  {
   "cell_type": "code",
   "execution_count": 1510,
   "metadata": {},
   "outputs": [
    {
     "name": "stdout",
     "output_type": "stream",
     "text": [
      "['Netflix', 'AirBnB', 'Instagram']\n"
     ]
    }
   ],
   "source": [
    "print(apps_list[3:])"
   ]
  },
  {
   "cell_type": "markdown",
   "metadata": {},
   "source": [
    "4.) Appending Messenger to the list and adding Youtube to index 1"
   ]
  },
  {
   "cell_type": "code",
   "execution_count": 1511,
   "metadata": {},
   "outputs": [
    {
     "name": "stdout",
     "output_type": "stream",
     "text": [
      "['Google', 'Youtube', 'Facebook', 'Amazon', 'Netflix', 'AirBnB', 'Instagram', 'Messenger']\n"
     ]
    }
   ],
   "source": [
    "apps_list.append(\"Messenger\")\n",
    "apps_list.insert(1, \"Youtube\")\n",
    "print(apps_list)"
   ]
  },
  {
   "cell_type": "markdown",
   "metadata": {},
   "source": [
    "5.) Removing \"Facebook\" from list"
   ]
  },
  {
   "cell_type": "code",
   "execution_count": 1512,
   "metadata": {},
   "outputs": [
    {
     "name": "stdout",
     "output_type": "stream",
     "text": [
      "['Google', 'Youtube', 'Amazon', 'Netflix', 'AirBnB', 'Instagram', 'Messenger']\n"
     ]
    }
   ],
   "source": [
    "if \"Facebook\" in apps_list:\n",
    "    apps_list.remove(\"Facebook\")\n",
    "print(apps_list)"
   ]
  },
  {
   "cell_type": "markdown",
   "metadata": {},
   "source": [
    "6.) adding list of \"Linkedin\" and \"Twitter\" with the larger list"
   ]
  },
  {
   "cell_type": "code",
   "execution_count": 1513,
   "metadata": {},
   "outputs": [
    {
     "name": "stdout",
     "output_type": "stream",
     "text": [
      "['Google', 'Youtube', 'Amazon', 'Netflix', 'AirBnB', 'Instagram', 'Messenger', 'Linkedin', 'Twitter']\n"
     ]
    }
   ],
   "source": [
    "conc_list = [\"Linkedin\", \"Twitter\"]\n",
    "combined_list = apps_list + conc_list\n",
    "print(combined_list)"
   ]
  },
  {
   "cell_type": "markdown",
   "metadata": {},
   "source": [
    "1.3 Dicts"
   ]
  },
  {
   "cell_type": "markdown",
   "metadata": {},
   "source": [
    "1.) creating a dictionary with the same values as 1.1.1"
   ]
  },
  {
   "cell_type": "code",
   "execution_count": 1514,
   "metadata": {},
   "outputs": [],
   "source": [
    "apps_dict = {\"app0\":\"Google\",\"app1\":\"Facebook\",\"app2\":\"Amazon\",\"app3\":\"Netflix\",\"app4\":\"AirBnB\",\"app5\":\"Instagram\"}"
   ]
  },
  {
   "cell_type": "markdown",
   "metadata": {},
   "source": [
    "2.) replacing a dictionary key at app1 with \"Youtube\""
   ]
  },
  {
   "cell_type": "code",
   "execution_count": 1515,
   "metadata": {},
   "outputs": [
    {
     "name": "stdout",
     "output_type": "stream",
     "text": [
      "{'app0': 'Google', 'app2': 'Amazon', 'app3': 'Netflix', 'app4': 'AirBnB', 'app5': 'Instagram', 'Youtube': 'Facebook'}\n"
     ]
    }
   ],
   "source": [
    "apps_dict[\"Youtube\"]=apps_dict.pop(\"app1\")\n",
    "print(apps_dict)"
   ]
  },
  {
   "cell_type": "markdown",
   "metadata": {},
   "source": [
    "3.) appending a new key-pair to the dictionary"
   ]
  },
  {
   "cell_type": "code",
   "execution_count": 1516,
   "metadata": {},
   "outputs": [
    {
     "name": "stdout",
     "output_type": "stream",
     "text": [
      "{'app0': 'Google', 'app2': 'Amazon', 'app3': 'Netflix', 'app4': 'AirBnB', 'app5': 'Instagram', 'Youtube': 'Facebook', 'app6': 'Messenger'}\n"
     ]
    }
   ],
   "source": [
    "apps_dict[\"app6\"]= \"Messenger\"\n",
    "print(apps_dict)"
   ]
  },
  {
   "cell_type": "markdown",
   "metadata": {},
   "source": [
    "4.)The syntax: apps_dict[\"app1\"]= \"Messenger\" will append the new key-pair value to the dictionary"
   ]
  },
  {
   "cell_type": "code",
   "execution_count": 1517,
   "metadata": {},
   "outputs": [
    {
     "name": "stdout",
     "output_type": "stream",
     "text": [
      "{'app0': 'Google', 'app2': 'Amazon', 'app3': 'Netflix', 'app4': 'AirBnB', 'app5': 'Instagram', 'Youtube': 'Facebook', 'app6': 'Messenger', 'app1': 'Messenger'}\n"
     ]
    }
   ],
   "source": [
    "apps_dict[\"app1\"]= \"Messenger\"\n",
    "print(apps_dict)"
   ]
  },
  {
   "cell_type": "markdown",
   "metadata": {},
   "source": [
    "5.) The syntax: apps_dict[\"App1\"]=\"Facebook\" will append the identified key-pair value to the dictionary. However using \"app1\" will replace the previous \"app1\" value of \"Messenger\" with \"Facebook\"."
   ]
  },
  {
   "cell_type": "code",
   "execution_count": 1518,
   "metadata": {},
   "outputs": [
    {
     "name": "stdout",
     "output_type": "stream",
     "text": [
      "{'app0': 'Google', 'app2': 'Amazon', 'app3': 'Netflix', 'app4': 'AirBnB', 'app5': 'Instagram', 'Youtube': 'Facebook', 'app6': 'Messenger', 'app1': 'Facebook', 'App1': 'Facebook'}\n"
     ]
    }
   ],
   "source": [
    "#option 1\n",
    "apps_dict[\"App1\"]=\"Facebook\"\n",
    "#option 2\n",
    "apps_dict[\"app1\"]=\"Facebook\"\n",
    "print(apps_dict)"
   ]
  },
  {
   "cell_type": "markdown",
   "metadata": {},
   "source": [
    "6.) The syntax: del apps_dict[\"App1\"] will remove the \"App1\" key and its corresponding value"
   ]
  },
  {
   "cell_type": "code",
   "execution_count": 1519,
   "metadata": {},
   "outputs": [
    {
     "name": "stdout",
     "output_type": "stream",
     "text": [
      "{'app0': 'Google', 'app2': 'Amazon', 'app3': 'Netflix', 'app4': 'AirBnB', 'app5': 'Instagram', 'Youtube': 'Facebook', 'app6': 'Messenger'}\n"
     ]
    }
   ],
   "source": [
    "#option 1\n",
    "del apps_dict[\"App1\"]\n",
    "#option 2\n",
    "del apps_dict[\"app1\"]\n",
    "print(apps_dict)"
   ]
  },
  {
   "cell_type": "markdown",
   "metadata": {},
   "source": [
    "1.4 List Comprehension"
   ]
  },
  {
   "cell_type": "markdown",
   "metadata": {},
   "source": [
    "1.) creating a list named values"
   ]
  },
  {
   "cell_type": "code",
   "execution_count": 1520,
   "metadata": {},
   "outputs": [],
   "source": [
    "values = [7,12,9,18,5]"
   ]
  },
  {
   "cell_type": "markdown",
   "metadata": {},
   "source": [
    "2.) Squaring every value of \"values\""
   ]
  },
  {
   "cell_type": "code",
   "execution_count": 1521,
   "metadata": {},
   "outputs": [
    {
     "name": "stdout",
     "output_type": "stream",
     "text": [
      "[49, 144, 81, 324, 25]\n"
     ]
    }
   ],
   "source": [
    "def square(list):\n",
    "    return [i**2 for i in list]\n",
    "print(square(values))"
   ]
  },
  {
   "cell_type": "markdown",
   "metadata": {},
   "source": [
    "1.5 Functions and Control Flow"
   ]
  },
  {
   "cell_type": "markdown",
   "metadata": {},
   "source": [
    "1.) using numpy to generate 10 random numbers between 600-900"
   ]
  },
  {
   "cell_type": "code",
   "execution_count": 1522,
   "metadata": {},
   "outputs": [
    {
     "name": "stdout",
     "output_type": "stream",
     "text": [
      "[772 845 874 867 819 713 646 801 769 754]\n"
     ]
    }
   ],
   "source": [
    "import numpy as np\n",
    "random_set = np.random.randint(600, high = 900, size = 10)\n",
    "\n",
    "print(random_set)"
   ]
  },
  {
   "cell_type": "markdown",
   "metadata": {},
   "source": [
    "2.) Credit score reader (function) that labels the information in random_set"
   ]
  },
  {
   "cell_type": "code",
   "execution_count": 1523,
   "metadata": {},
   "outputs": [
    {
     "data": {
      "text/plain": [
       "['Medium',\n",
       " 'High',\n",
       " 'High',\n",
       " 'High',\n",
       " 'High',\n",
       " 'Medium',\n",
       " 'Low',\n",
       " 'High',\n",
       " 'Medium',\n",
       " 'Medium']"
      ]
     },
     "execution_count": 1523,
     "metadata": {},
     "output_type": "execute_result"
    }
   ],
   "source": [
    "credit_list = []\n",
    "\n",
    "def credit_score(list):\n",
    "    for i in list:\n",
    "        if 600 <= i <=699:\n",
    "            credit_list.append(\"Low\")\n",
    "        elif 700 <= i <= 799:\n",
    "            credit_list.append(\"Medium\")\n",
    "        elif 800 <= i <= 899:\n",
    "            credit_list.append(\"High\")\n",
    "    return(credit_list)\n",
    "credit_score(random_set)\n"
   ]
  },
  {
   "cell_type": "markdown",
   "metadata": {},
   "source": [
    "2 Linalg in Numpy"
   ]
  },
  {
   "cell_type": "markdown",
   "metadata": {},
   "source": [
    "2.1 Matrix Calculations"
   ]
  },
  {
   "cell_type": "markdown",
   "metadata": {},
   "source": [
    "1.) matrix operations, scalar and matrix addition"
   ]
  },
  {
   "cell_type": "code",
   "execution_count": 1524,
   "metadata": {},
   "outputs": [
    {
     "name": "stdout",
     "output_type": "stream",
     "text": [
      "[[4 2]\n",
      " [2 2]\n",
      " [4 6]]\n",
      "[[12 -3]\n",
      " [-9  3]\n",
      " [ 6 -3]]\n",
      "[[-2  2]\n",
      " [ 4  0]\n",
      " [ 0  4]]\n"
     ]
    }
   ],
   "source": [
    "a = np.matrix('2,1; 1,1; 2,3')\n",
    "b = np.matrix('-4,1; 3,-1; -2,1')\n",
    "print(np.multiply(a,2))\n",
    "print(np.multiply(b, -3))\n",
    "print(np.add(a,b))"
   ]
  },
  {
   "cell_type": "markdown",
   "metadata": {},
   "source": [
    "2.) matrix operations, dot product and inverse"
   ]
  },
  {
   "cell_type": "code",
   "execution_count": 1525,
   "metadata": {},
   "outputs": [
    {
     "name": "stdout",
     "output_type": "stream",
     "text": [
      "[[-10 -16]\n",
      " [ -4  -4]\n",
      " [ 11  16]]\n",
      "[[ 3. -1.]\n",
      " [-2.  1.]]\n"
     ]
    }
   ],
   "source": [
    "a=np.matrix('2,-6; -4,0; 1,5')\n",
    "b=np.matrix('1,1; 2,3')\n",
    "print(np.dot(a,b))\n",
    "print(np.linalg.inv(b))"
   ]
  },
  {
   "cell_type": "markdown",
   "metadata": {},
   "source": [
    "3.) replacing values in a matrix and determinant calculation"
   ]
  },
  {
   "cell_type": "code",
   "execution_count": 1526,
   "metadata": {},
   "outputs": [
    {
     "name": "stdout",
     "output_type": "stream",
     "text": [
      "[[ 1  0  3  1]\n",
      " [-2  1 -3  2]\n",
      " [ 0  0  0  2]\n",
      " [ 3  2  1 -1]]\n",
      "42.00000000000001\n"
     ]
    }
   ],
   "source": [
    "a=np.matrix('1,0,4,1; -2,1,-3,2; 0,0,0,2; 3,2,1,-1')\n",
    "a[a>=3]=3\n",
    "print(a)\n",
    "a=np.matrix('1,0,4,1; -2,1,-3,2; 0,0,0,2; 3,2,1,-1')\n",
    "print(np.linalg.det(a))"
   ]
  },
  {
   "cell_type": "markdown",
   "metadata": {},
   "source": [
    "2.2 Norms and Eigenvalues"
   ]
  },
  {
   "cell_type": "markdown",
   "metadata": {},
   "source": [
    "1.) Finding the maximum, Euclidean or Frobenius norm of three vectors"
   ]
  },
  {
   "cell_type": "code",
   "execution_count": 1527,
   "metadata": {},
   "outputs": [
    {
     "name": "stdout",
     "output_type": "stream",
     "text": [
      "this is the max of vector 1:  3\n",
      "this is the max of vector 1:  2\n",
      "this is the max of vector 1:  2\n",
      "This is the Frobenius norm of vector 1:  3.7416573867739413\n",
      "This is the Frobenius norm of vector 2:  3.0\n",
      "This is the Frobenius norm of vector 3:  4.69041575982343\n"
     ]
    }
   ],
   "source": [
    "from numpy import linalg as LA\n",
    "\n",
    "list1 = [[1],\n",
    "        [-2],\n",
    "        [3]]\n",
    "list2 = [[2],\n",
    "        [0],\n",
    "        [-1],\n",
    "        [2]]\n",
    "list3 = [[0],\n",
    "        [1],\n",
    "        [-4],\n",
    "        [2],\n",
    "        [-1]]\n",
    "vector1 = np.array(list1)\n",
    "vector2 = np.array(list2)\n",
    "vector3 = np.array(list3)\n",
    "max_vector_1 = np.amax(vector1)\n",
    "print(\"this is the max of vector 1: \", max_vector_1)\n",
    "print(\"this is the max of vector 1: \", np.amax(vector2))\n",
    "print(\"this is the max of vector 1: \", np.amax(vector3))\n",
    "\n",
    "\n",
    "fro_norm_1 = LA.norm(vector1, ord=None)\n",
    "fro_norm_2 = LA.norm(vector2, ord=None)\n",
    "fro_norm_3 = LA.norm(vector3, ord=None)\n",
    "print(\"This is the Frobenius norm of vector 1: \", fro_norm_1)\n",
    "print(\"This is the Frobenius norm of vector 2: \", fro_norm_2)\n",
    "print(\"This is the Frobenius norm of vector 3: \", fro_norm_3)\n",
    "\n"
   ]
  },
  {
   "cell_type": "markdown",
   "metadata": {},
   "source": [
    "2.) Calculating the I_2 and I_inf norms of A1 and A2 "
   ]
  },
  {
   "cell_type": "code",
   "execution_count": 1528,
   "metadata": {},
   "outputs": [
    {
     "name": "stdout",
     "output_type": "stream",
     "text": [
      "This is the 2 norm of vector 1:  5.0197648378370845\n",
      "This is the 2 norm of vector 1:  2.4998281017161057\n",
      "This is the infinite norm of vector 1:  7.0\n",
      "This is the infinite norm of vector 1:  3.0\n"
     ]
    }
   ],
   "source": [
    "A1 = np.matrix('1,-2; 4,3')\n",
    "A2 = np.matrix('1,0,2;0,1,-1;-1,1,1')\n",
    "\n",
    "norm_A1_I2 = LA.norm(A1, ord = 2)\n",
    "norm_A2_I2 = LA.norm(A2, ord = 2)\n",
    "norm_A1_inf = LA.norm(A1, ord = np.inf)\n",
    "norm_A2_inf = LA.norm(A2, ord = np.inf)\n",
    "\n",
    "print(\"This is the 2 norm of vector 1: \", norm_A1_I2)\n",
    "print(\"This is the 2 norm of vector 1: \", norm_A2_I2)\n",
    "print(\"This is the infinite norm of vector 1: \", norm_A1_inf)\n",
    "print(\"This is the infinite norm of vector 1: \", norm_A2_inf)"
   ]
  },
  {
   "cell_type": "markdown",
   "metadata": {},
   "source": [
    "3.) Eigenvalue calculation on a matrix"
   ]
  },
  {
   "cell_type": "code",
   "execution_count": 1529,
   "metadata": {},
   "outputs": [
    {
     "name": "stdout",
     "output_type": "stream",
     "text": [
      "[-12.   3.  -3.]\n"
     ]
    }
   ],
   "source": [
    "A = np.matrix('-2,-2,3; -10,-1,6; 10,-2,-9')\n",
    "eigen_A = LA.eigvals(A)\n",
    "print(eigen_A)"
   ]
  },
  {
   "cell_type": "markdown",
   "metadata": {},
   "source": [
    "3 Pandas Manipulation"
   ]
  },
  {
   "cell_type": "markdown",
   "metadata": {},
   "source": [
    "1.) Developing own interpolate function"
   ]
  },
  {
   "cell_type": "code",
   "execution_count": 1530,
   "metadata": {},
   "outputs": [
    {
     "name": "stderr",
     "output_type": "stream",
     "text": [
      "/Library/Frameworks/Python.framework/Versions/3.10/lib/python3.10/site-packages/openpyxl/worksheet/_reader.py:312: UserWarning: Unknown extension is not supported and will be removed\n",
      "  warn(msg)\n"
     ]
    },
    {
     "data": {
      "text/html": [
       "<div>\n",
       "<style scoped>\n",
       "    .dataframe tbody tr th:only-of-type {\n",
       "        vertical-align: middle;\n",
       "    }\n",
       "\n",
       "    .dataframe tbody tr th {\n",
       "        vertical-align: top;\n",
       "    }\n",
       "\n",
       "    .dataframe thead th {\n",
       "        text-align: right;\n",
       "    }\n",
       "</style>\n",
       "<table border=\"1\" class=\"dataframe\">\n",
       "  <thead>\n",
       "    <tr style=\"text-align: right;\">\n",
       "      <th></th>\n",
       "      <th>Date</th>\n",
       "      <th>Price_pl</th>\n",
       "    </tr>\n",
       "  </thead>\n",
       "  <tbody>\n",
       "    <tr>\n",
       "      <th>0</th>\n",
       "      <td>12/11/2015</td>\n",
       "      <td>1.0490</td>\n",
       "    </tr>\n",
       "    <tr>\n",
       "      <th>1</th>\n",
       "      <td>19/11/2015</td>\n",
       "      <td>0.9990</td>\n",
       "    </tr>\n",
       "    <tr>\n",
       "      <th>2</th>\n",
       "      <td>7/12/2015</td>\n",
       "      <td>0.9990</td>\n",
       "    </tr>\n",
       "    <tr>\n",
       "      <th>3</th>\n",
       "      <td>19/12/2015</td>\n",
       "      <td>1.0190</td>\n",
       "    </tr>\n",
       "    <tr>\n",
       "      <th>4</th>\n",
       "      <td>04/01/2016</td>\n",
       "      <td>1.0190</td>\n",
       "    </tr>\n",
       "    <tr>\n",
       "      <th>5</th>\n",
       "      <td>10/01/2016</td>\n",
       "      <td>0.9590</td>\n",
       "    </tr>\n",
       "    <tr>\n",
       "      <th>6</th>\n",
       "      <td>18/01/2016</td>\n",
       "      <td>0.9290</td>\n",
       "    </tr>\n",
       "    <tr>\n",
       "      <th>7</th>\n",
       "      <td>31/01/2016</td>\n",
       "      <td>0.9490</td>\n",
       "    </tr>\n",
       "    <tr>\n",
       "      <th>8</th>\n",
       "      <td>5/2/2016</td>\n",
       "      <td>0.9090</td>\n",
       "    </tr>\n",
       "    <tr>\n",
       "      <th>9</th>\n",
       "      <td>20/2/2016</td>\n",
       "      <td>0.8890</td>\n",
       "    </tr>\n",
       "    <tr>\n",
       "      <th>10</th>\n",
       "      <td>06/03/2016</td>\n",
       "      <td>0.9090</td>\n",
       "    </tr>\n",
       "    <tr>\n",
       "      <th>11</th>\n",
       "      <td>22/03/2016</td>\n",
       "      <td>0.9490</td>\n",
       "    </tr>\n",
       "    <tr>\n",
       "      <th>12</th>\n",
       "      <td>15/04/2016</td>\n",
       "      <td>1.0040</td>\n",
       "    </tr>\n",
       "    <tr>\n",
       "      <th>13</th>\n",
       "      <td>28/04/2016</td>\n",
       "      <td>1.0590</td>\n",
       "    </tr>\n",
       "    <tr>\n",
       "      <th>14</th>\n",
       "      <td>1/05/2016</td>\n",
       "      <td>1.0590</td>\n",
       "    </tr>\n",
       "    <tr>\n",
       "      <th>15</th>\n",
       "      <td>3/5/2016</td>\n",
       "      <td>1.0590</td>\n",
       "    </tr>\n",
       "    <tr>\n",
       "      <th>16</th>\n",
       "      <td>9/5/2016</td>\n",
       "      <td>1.0490</td>\n",
       "    </tr>\n",
       "    <tr>\n",
       "      <th>17</th>\n",
       "      <td>16/05/2016</td>\n",
       "      <td>1.0790</td>\n",
       "    </tr>\n",
       "    <tr>\n",
       "      <th>18</th>\n",
       "      <td>24/05/2016</td>\n",
       "      <td>1.1090</td>\n",
       "    </tr>\n",
       "    <tr>\n",
       "      <th>19</th>\n",
       "      <td>31/05/2016</td>\n",
       "      <td>1.0990</td>\n",
       "    </tr>\n",
       "    <tr>\n",
       "      <th>20</th>\n",
       "      <td>6/6/2016</td>\n",
       "      <td>1.0690</td>\n",
       "    </tr>\n",
       "    <tr>\n",
       "      <th>21</th>\n",
       "      <td>13/6/2016</td>\n",
       "      <td>1.0560</td>\n",
       "    </tr>\n",
       "    <tr>\n",
       "      <th>22</th>\n",
       "      <td>20/6/2016</td>\n",
       "      <td>1.0190</td>\n",
       "    </tr>\n",
       "    <tr>\n",
       "      <th>23</th>\n",
       "      <td>2/7/2016</td>\n",
       "      <td>1.0490</td>\n",
       "    </tr>\n",
       "    <tr>\n",
       "      <th>24</th>\n",
       "      <td>15/07/2016</td>\n",
       "      <td>0.9990</td>\n",
       "    </tr>\n",
       "    <tr>\n",
       "      <th>25</th>\n",
       "      <td>02/08/2016</td>\n",
       "      <td>0.9855</td>\n",
       "    </tr>\n",
       "    <tr>\n",
       "      <th>26</th>\n",
       "      <td>15/08/2016</td>\n",
       "      <td>0.9720</td>\n",
       "    </tr>\n",
       "    <tr>\n",
       "      <th>27</th>\n",
       "      <td>17/08/2016</td>\n",
       "      <td>0.9790</td>\n",
       "    </tr>\n",
       "    <tr>\n",
       "      <th>28</th>\n",
       "      <td>29/08/2016</td>\n",
       "      <td>1.0390</td>\n",
       "    </tr>\n",
       "    <tr>\n",
       "      <th>29</th>\n",
       "      <td>26/09/2016</td>\n",
       "      <td>0.9990</td>\n",
       "    </tr>\n",
       "    <tr>\n",
       "      <th>30</th>\n",
       "      <td>13/10/2016</td>\n",
       "      <td>1.0490</td>\n",
       "    </tr>\n",
       "    <tr>\n",
       "      <th>31</th>\n",
       "      <td>31/10/2016</td>\n",
       "      <td>1.0490</td>\n",
       "    </tr>\n",
       "    <tr>\n",
       "      <th>32</th>\n",
       "      <td>13/11/2016</td>\n",
       "      <td>0.9420</td>\n",
       "    </tr>\n",
       "    <tr>\n",
       "      <th>33</th>\n",
       "      <td>29/11/2016</td>\n",
       "      <td>0.9560</td>\n",
       "    </tr>\n",
       "    <tr>\n",
       "      <th>34</th>\n",
       "      <td>12/12/2016</td>\n",
       "      <td>1.0490</td>\n",
       "    </tr>\n",
       "    <tr>\n",
       "      <th>35</th>\n",
       "      <td>23/12/2016</td>\n",
       "      <td>1.0990</td>\n",
       "    </tr>\n",
       "    <tr>\n",
       "      <th>36</th>\n",
       "      <td>06/01/2017</td>\n",
       "      <td>1.1490</td>\n",
       "    </tr>\n",
       "    <tr>\n",
       "      <th>37</th>\n",
       "      <td>13/01/2017</td>\n",
       "      <td>1.1190</td>\n",
       "    </tr>\n",
       "    <tr>\n",
       "      <th>38</th>\n",
       "      <td>23/01/2017</td>\n",
       "      <td>1.1190</td>\n",
       "    </tr>\n",
       "    <tr>\n",
       "      <th>39</th>\n",
       "      <td>30/01/2017</td>\n",
       "      <td>1.0890</td>\n",
       "    </tr>\n",
       "    <tr>\n",
       "      <th>40</th>\n",
       "      <td>05/02/2017</td>\n",
       "      <td>1.0690</td>\n",
       "    </tr>\n",
       "    <tr>\n",
       "      <th>41</th>\n",
       "      <td>14/02/2017</td>\n",
       "      <td>1.0890</td>\n",
       "    </tr>\n",
       "    <tr>\n",
       "      <th>42</th>\n",
       "      <td>22/02/2017</td>\n",
       "      <td>1.0790</td>\n",
       "    </tr>\n",
       "    <tr>\n",
       "      <th>43</th>\n",
       "      <td>02/03/2017</td>\n",
       "      <td>1.0890</td>\n",
       "    </tr>\n",
       "    <tr>\n",
       "      <th>44</th>\n",
       "      <td>9/03/2017</td>\n",
       "      <td>1.0590</td>\n",
       "    </tr>\n",
       "    <tr>\n",
       "      <th>45</th>\n",
       "      <td>16/03/2017</td>\n",
       "      <td>1.0790</td>\n",
       "    </tr>\n",
       "    <tr>\n",
       "      <th>46</th>\n",
       "      <td>22/03/2017</td>\n",
       "      <td>1.0890</td>\n",
       "    </tr>\n",
       "    <tr>\n",
       "      <th>47</th>\n",
       "      <td>28/03/2017</td>\n",
       "      <td>1.0590</td>\n",
       "    </tr>\n",
       "    <tr>\n",
       "      <th>48</th>\n",
       "      <td>10/04/2017</td>\n",
       "      <td>1.1590</td>\n",
       "    </tr>\n",
       "    <tr>\n",
       "      <th>49</th>\n",
       "      <td>17/04/2017</td>\n",
       "      <td>1.1890</td>\n",
       "    </tr>\n",
       "    <tr>\n",
       "      <th>50</th>\n",
       "      <td>22/04/2017</td>\n",
       "      <td>1.1790</td>\n",
       "    </tr>\n",
       "    <tr>\n",
       "      <th>51</th>\n",
       "      <td>17/05/2017</td>\n",
       "      <td>1.1090</td>\n",
       "    </tr>\n",
       "    <tr>\n",
       "      <th>52</th>\n",
       "      <td>26/06/2017</td>\n",
       "      <td>1.0220</td>\n",
       "    </tr>\n",
       "    <tr>\n",
       "      <th>53</th>\n",
       "      <td>14/07/2017</td>\n",
       "      <td>1.0590</td>\n",
       "    </tr>\n",
       "    <tr>\n",
       "      <th>54</th>\n",
       "      <td>10/08/2017</td>\n",
       "      <td>1.0940</td>\n",
       "    </tr>\n",
       "    <tr>\n",
       "      <th>55</th>\n",
       "      <td>20/08/2017</td>\n",
       "      <td>1.1290</td>\n",
       "    </tr>\n",
       "    <tr>\n",
       "      <th>56</th>\n",
       "      <td>24/08/2017</td>\n",
       "      <td>1.0790</td>\n",
       "    </tr>\n",
       "    <tr>\n",
       "      <th>57</th>\n",
       "      <td>18/09/2017</td>\n",
       "      <td>1.0860</td>\n",
       "    </tr>\n",
       "    <tr>\n",
       "      <th>58</th>\n",
       "      <td>24/10/2017</td>\n",
       "      <td>1.1260</td>\n",
       "    </tr>\n",
       "    <tr>\n",
       "      <th>59</th>\n",
       "      <td>19/11/2017</td>\n",
       "      <td>1.1830</td>\n",
       "    </tr>\n",
       "    <tr>\n",
       "      <th>60</th>\n",
       "      <td>09/12/2017</td>\n",
       "      <td>1.2190</td>\n",
       "    </tr>\n",
       "    <tr>\n",
       "      <th>61</th>\n",
       "      <td>24/12/2017</td>\n",
       "      <td>1.2030</td>\n",
       "    </tr>\n",
       "    <tr>\n",
       "      <th>62</th>\n",
       "      <td>04/01/2018</td>\n",
       "      <td>1.2190</td>\n",
       "    </tr>\n",
       "    <tr>\n",
       "      <th>63</th>\n",
       "      <td>08/01/2018</td>\n",
       "      <td>1.1760</td>\n",
       "    </tr>\n",
       "    <tr>\n",
       "      <th>64</th>\n",
       "      <td>2/2/2018</td>\n",
       "      <td>1.2190</td>\n",
       "    </tr>\n",
       "    <tr>\n",
       "      <th>65</th>\n",
       "      <td>14/02/2018</td>\n",
       "      <td>1.1530</td>\n",
       "    </tr>\n",
       "    <tr>\n",
       "      <th>66</th>\n",
       "      <td>3/3/2018</td>\n",
       "      <td>1.1860</td>\n",
       "    </tr>\n",
       "    <tr>\n",
       "      <th>67</th>\n",
       "      <td>9/03/2018</td>\n",
       "      <td>1.1960</td>\n",
       "    </tr>\n",
       "    <tr>\n",
       "      <th>68</th>\n",
       "      <td>26/03/2018</td>\n",
       "      <td>1.2630</td>\n",
       "    </tr>\n",
       "    <tr>\n",
       "      <th>69</th>\n",
       "      <td>2/4/2018</td>\n",
       "      <td>1.2760</td>\n",
       "    </tr>\n",
       "    <tr>\n",
       "      <th>70</th>\n",
       "      <td>24/04/2018</td>\n",
       "      <td>1.2995</td>\n",
       "    </tr>\n",
       "    <tr>\n",
       "      <th>71</th>\n",
       "      <td>02/05/2018</td>\n",
       "      <td>1.3230</td>\n",
       "    </tr>\n",
       "    <tr>\n",
       "      <th>72</th>\n",
       "      <td>12/05/2018</td>\n",
       "      <td>1.3260</td>\n",
       "    </tr>\n",
       "    <tr>\n",
       "      <th>73</th>\n",
       "      <td>23/05/2018</td>\n",
       "      <td>1.3360</td>\n",
       "    </tr>\n",
       "    <tr>\n",
       "      <th>74</th>\n",
       "      <td>20/6/2018</td>\n",
       "      <td>1.2890</td>\n",
       "    </tr>\n",
       "    <tr>\n",
       "      <th>75</th>\n",
       "      <td>3/7/2018</td>\n",
       "      <td>1.3260</td>\n",
       "    </tr>\n",
       "    <tr>\n",
       "      <th>76</th>\n",
       "      <td>27/7/2018</td>\n",
       "      <td>1.2990</td>\n",
       "    </tr>\n",
       "    <tr>\n",
       "      <th>77</th>\n",
       "      <td>17/10/2018</td>\n",
       "      <td>1.2090</td>\n",
       "    </tr>\n",
       "    <tr>\n",
       "      <th>78</th>\n",
       "      <td>01/11/2018</td>\n",
       "      <td>1.1960</td>\n",
       "    </tr>\n",
       "    <tr>\n",
       "      <th>79</th>\n",
       "      <td>12/11/2018</td>\n",
       "      <td>1.1260</td>\n",
       "    </tr>\n",
       "    <tr>\n",
       "      <th>80</th>\n",
       "      <td>27/11/2018</td>\n",
       "      <td>1.0590</td>\n",
       "    </tr>\n",
       "    <tr>\n",
       "      <th>81</th>\n",
       "      <td>06/12/2018</td>\n",
       "      <td>1.0160</td>\n",
       "    </tr>\n",
       "  </tbody>\n",
       "</table>\n",
       "</div>"
      ],
      "text/plain": [
       "          Date  Price_pl\n",
       "0   12/11/2015    1.0490\n",
       "1   19/11/2015    0.9990\n",
       "2    7/12/2015    0.9990\n",
       "3   19/12/2015    1.0190\n",
       "4   04/01/2016    1.0190\n",
       "5   10/01/2016    0.9590\n",
       "6   18/01/2016    0.9290\n",
       "7   31/01/2016    0.9490\n",
       "8     5/2/2016    0.9090\n",
       "9    20/2/2016    0.8890\n",
       "10  06/03/2016    0.9090\n",
       "11  22/03/2016    0.9490\n",
       "12  15/04/2016    1.0040\n",
       "13  28/04/2016    1.0590\n",
       "14   1/05/2016    1.0590\n",
       "15    3/5/2016    1.0590\n",
       "16    9/5/2016    1.0490\n",
       "17  16/05/2016    1.0790\n",
       "18  24/05/2016    1.1090\n",
       "19  31/05/2016    1.0990\n",
       "20    6/6/2016    1.0690\n",
       "21   13/6/2016    1.0560\n",
       "22   20/6/2016    1.0190\n",
       "23    2/7/2016    1.0490\n",
       "24  15/07/2016    0.9990\n",
       "25  02/08/2016    0.9855\n",
       "26  15/08/2016    0.9720\n",
       "27  17/08/2016    0.9790\n",
       "28  29/08/2016    1.0390\n",
       "29  26/09/2016    0.9990\n",
       "30  13/10/2016    1.0490\n",
       "31  31/10/2016    1.0490\n",
       "32  13/11/2016    0.9420\n",
       "33  29/11/2016    0.9560\n",
       "34  12/12/2016    1.0490\n",
       "35  23/12/2016    1.0990\n",
       "36  06/01/2017    1.1490\n",
       "37  13/01/2017    1.1190\n",
       "38  23/01/2017    1.1190\n",
       "39  30/01/2017    1.0890\n",
       "40  05/02/2017    1.0690\n",
       "41  14/02/2017    1.0890\n",
       "42  22/02/2017    1.0790\n",
       "43  02/03/2017    1.0890\n",
       "44   9/03/2017    1.0590\n",
       "45  16/03/2017    1.0790\n",
       "46  22/03/2017    1.0890\n",
       "47  28/03/2017    1.0590\n",
       "48  10/04/2017    1.1590\n",
       "49  17/04/2017    1.1890\n",
       "50  22/04/2017    1.1790\n",
       "51  17/05/2017    1.1090\n",
       "52  26/06/2017    1.0220\n",
       "53  14/07/2017    1.0590\n",
       "54  10/08/2017    1.0940\n",
       "55  20/08/2017    1.1290\n",
       "56  24/08/2017    1.0790\n",
       "57  18/09/2017    1.0860\n",
       "58  24/10/2017    1.1260\n",
       "59  19/11/2017    1.1830\n",
       "60  09/12/2017    1.2190\n",
       "61  24/12/2017    1.2030\n",
       "62  04/01/2018    1.2190\n",
       "63  08/01/2018    1.1760\n",
       "64    2/2/2018    1.2190\n",
       "65  14/02/2018    1.1530\n",
       "66    3/3/2018    1.1860\n",
       "67   9/03/2018    1.1960\n",
       "68  26/03/2018    1.2630\n",
       "69    2/4/2018    1.2760\n",
       "70  24/04/2018    1.2995\n",
       "71  02/05/2018    1.3230\n",
       "72  12/05/2018    1.3260\n",
       "73  23/05/2018    1.3360\n",
       "74   20/6/2018    1.2890\n",
       "75    3/7/2018    1.3260\n",
       "76   27/7/2018    1.2990\n",
       "77  17/10/2018    1.2090\n",
       "78  01/11/2018    1.1960\n",
       "79  12/11/2018    1.1260\n",
       "80  27/11/2018    1.0590\n",
       "81  06/12/2018    1.0160"
      ]
     },
     "metadata": {},
     "output_type": "display_data"
    }
   ],
   "source": [
    "import pandas as pd\n",
    "\n",
    "gasprices = pd.read_excel(r'Gas_prices.xlsx')\n",
    "#change user path to run the cell\n",
    "\n",
    "def interpolate(df):\n",
    "    pd.set_option(\"display.max_rows\",None,\"display.max_columns\",None)\n",
    "    null_values = df[df['Price_pl'].isnull()].index.tolist()\n",
    "    for index, i in enumerate(null_values):\n",
    "        j = i-1\n",
    "        k = i+1\n",
    "        df.at[i, 'Price_pl']=(df.at[j, 'Price_pl']+ df.at[k, 'Price_pl'])/2\n",
    "    return display(df)\n",
    "interpolate(gasprices)"
   ]
  },
  {
   "cell_type": "markdown",
   "metadata": {},
   "source": [
    "2.) Find info of the min and max value of Gas_prices.xlsx"
   ]
  },
  {
   "cell_type": "code",
   "execution_count": 1531,
   "metadata": {},
   "outputs": [
    {
     "name": "stdout",
     "output_type": "stream",
     "text": [
      "          Date  Price_pl\n",
      "73  23/05/2018     1.336\n",
      "        Date  Price_pl\n",
      "9  20/2/2016     0.889\n"
     ]
    }
   ],
   "source": [
    "max_index = gasprices['Price_pl'].idxmax()\n",
    "min_index = gasprices['Price_pl'].idxmin()\n",
    "print(gasprices.loc[[max_index]])\n",
    "print(gasprices.loc[[min_index]])"
   ]
  },
  {
   "cell_type": "markdown",
   "metadata": {},
   "source": [
    "3.) Finding the mean, median, quantile, skewness and kurtosis of 'Price_pl'"
   ]
  },
  {
   "cell_type": "code",
   "execution_count": 1532,
   "metadata": {},
   "outputs": [
    {
     "name": "stdout",
     "output_type": "stream",
     "text": [
      "mean, median, and quantile of the dataset:          Price_pl\n",
      "count  82.000000\n",
      "mean    1.095390\n",
      "std     0.107164\n",
      "min     0.889000\n",
      "25%     1.019750\n",
      "50%     1.079000\n",
      "75%     1.171750\n",
      "max     1.336000\n",
      "Skewness of the dataset:  0.46752591499730667\n",
      "Kurtosis of the dataset -0.257963187132765\n"
     ]
    }
   ],
   "source": [
    "print(\"mean, median, and quantile of the dataset: \", gasprices.describe())\n",
    "print(\"Skewness of the dataset: \", gasprices['Price_pl'].skew())\n",
    "print(\"Kurtosis of the dataset\", gasprices['Price_pl'].kurt())"
   ]
  },
  {
   "cell_type": "markdown",
   "metadata": {},
   "source": [
    "4.) Add Month and Year, and plot data"
   ]
  },
  {
   "cell_type": "code",
   "execution_count": 1533,
   "metadata": {},
   "outputs": [
    {
     "data": {
      "text/html": [
       "<div>\n",
       "<style scoped>\n",
       "    .dataframe tbody tr th:only-of-type {\n",
       "        vertical-align: middle;\n",
       "    }\n",
       "\n",
       "    .dataframe tbody tr th {\n",
       "        vertical-align: top;\n",
       "    }\n",
       "\n",
       "    .dataframe thead th {\n",
       "        text-align: right;\n",
       "    }\n",
       "</style>\n",
       "<table border=\"1\" class=\"dataframe\">\n",
       "  <thead>\n",
       "    <tr style=\"text-align: right;\">\n",
       "      <th>Year</th>\n",
       "      <th>2015</th>\n",
       "      <th>2016</th>\n",
       "      <th>2017</th>\n",
       "      <th>2018</th>\n",
       "    </tr>\n",
       "    <tr>\n",
       "      <th>Month</th>\n",
       "      <th></th>\n",
       "      <th></th>\n",
       "      <th></th>\n",
       "      <th></th>\n",
       "    </tr>\n",
       "  </thead>\n",
       "  <tbody>\n",
       "    <tr>\n",
       "      <th>1</th>\n",
       "      <td>NaN</td>\n",
       "      <td>0.964000</td>\n",
       "      <td>1.119000</td>\n",
       "      <td>1.197500</td>\n",
       "    </tr>\n",
       "    <tr>\n",
       "      <th>2</th>\n",
       "      <td>NaN</td>\n",
       "      <td>0.899000</td>\n",
       "      <td>1.079000</td>\n",
       "      <td>1.186000</td>\n",
       "    </tr>\n",
       "    <tr>\n",
       "      <th>3</th>\n",
       "      <td>NaN</td>\n",
       "      <td>0.929000</td>\n",
       "      <td>1.075000</td>\n",
       "      <td>1.215000</td>\n",
       "    </tr>\n",
       "    <tr>\n",
       "      <th>4</th>\n",
       "      <td>NaN</td>\n",
       "      <td>1.031500</td>\n",
       "      <td>1.175667</td>\n",
       "      <td>1.287750</td>\n",
       "    </tr>\n",
       "    <tr>\n",
       "      <th>5</th>\n",
       "      <td>NaN</td>\n",
       "      <td>1.075667</td>\n",
       "      <td>1.109000</td>\n",
       "      <td>1.328333</td>\n",
       "    </tr>\n",
       "    <tr>\n",
       "      <th>6</th>\n",
       "      <td>NaN</td>\n",
       "      <td>1.048000</td>\n",
       "      <td>1.022000</td>\n",
       "      <td>1.289000</td>\n",
       "    </tr>\n",
       "    <tr>\n",
       "      <th>7</th>\n",
       "      <td>NaN</td>\n",
       "      <td>1.024000</td>\n",
       "      <td>1.059000</td>\n",
       "      <td>1.312500</td>\n",
       "    </tr>\n",
       "    <tr>\n",
       "      <th>8</th>\n",
       "      <td>NaN</td>\n",
       "      <td>0.993875</td>\n",
       "      <td>1.100667</td>\n",
       "      <td>NaN</td>\n",
       "    </tr>\n",
       "    <tr>\n",
       "      <th>9</th>\n",
       "      <td>NaN</td>\n",
       "      <td>0.999000</td>\n",
       "      <td>1.086000</td>\n",
       "      <td>NaN</td>\n",
       "    </tr>\n",
       "    <tr>\n",
       "      <th>10</th>\n",
       "      <td>NaN</td>\n",
       "      <td>1.049000</td>\n",
       "      <td>1.126000</td>\n",
       "      <td>1.209000</td>\n",
       "    </tr>\n",
       "    <tr>\n",
       "      <th>11</th>\n",
       "      <td>1.024</td>\n",
       "      <td>0.949000</td>\n",
       "      <td>1.183000</td>\n",
       "      <td>1.127000</td>\n",
       "    </tr>\n",
       "    <tr>\n",
       "      <th>12</th>\n",
       "      <td>1.009</td>\n",
       "      <td>1.074000</td>\n",
       "      <td>1.211000</td>\n",
       "      <td>1.016000</td>\n",
       "    </tr>\n",
       "  </tbody>\n",
       "</table>\n",
       "</div>"
      ],
      "text/plain": [
       "Year    2015      2016      2017      2018\n",
       "Month                                     \n",
       "1        NaN  0.964000  1.119000  1.197500\n",
       "2        NaN  0.899000  1.079000  1.186000\n",
       "3        NaN  0.929000  1.075000  1.215000\n",
       "4        NaN  1.031500  1.175667  1.287750\n",
       "5        NaN  1.075667  1.109000  1.328333\n",
       "6        NaN  1.048000  1.022000  1.289000\n",
       "7        NaN  1.024000  1.059000  1.312500\n",
       "8        NaN  0.993875  1.100667       NaN\n",
       "9        NaN  0.999000  1.086000       NaN\n",
       "10       NaN  1.049000  1.126000  1.209000\n",
       "11     1.024  0.949000  1.183000  1.127000\n",
       "12     1.009  1.074000  1.211000  1.016000"
      ]
     },
     "metadata": {},
     "output_type": "display_data"
    },
    {
     "data": {
      "image/png": "[encoded data removed]",
      "text/plain": [
       "<Figure size 432x288 with 1 Axes>"
      ]
     },
     "metadata": {
      "needs_background": "light"
     },
     "output_type": "display_data"
    }
   ],
   "source": [
    "from datetime import datetime\n",
    "\n",
    "gasprices['Date'] = pd.to_datetime(gasprices['Date'], format = '%d/%m/%Y')\n",
    "gasprices['Month'] = gasprices['Date'].dt.month\n",
    "gasprices['Year'] = gasprices['Date'].dt.year\n",
    "monthly_average = gasprices.pivot_table(index = 'Month', columns = 'Year', values = 'Price_pl')\n",
    "display(monthly_average)\n",
    "import matplotlib.pyplot as plt\n",
    "plt.close(\"all\")\n",
    "monthly_average.interpolate('index').plot(xticks= monthly_average.index, kind= 'line')\n",
    "plt.ylabel(\"Price in Dollars\")\n",
    "plt.title(\"Monthly Average Gas Price\")\n",
    "plt.show()"
   ]
  },
  {
   "cell_type": "markdown",
   "metadata": {},
   "source": [
    "5.) Finding season and creating new pivot table"
   ]
  },
  {
   "cell_type": "code",
   "execution_count": 1534,
   "metadata": {},
   "outputs": [
    {
     "data": {
      "text/html": [
       "<div>\n",
       "<style scoped>\n",
       "    .dataframe tbody tr th:only-of-type {\n",
       "        vertical-align: middle;\n",
       "    }\n",
       "\n",
       "    .dataframe tbody tr th {\n",
       "        vertical-align: top;\n",
       "    }\n",
       "\n",
       "    .dataframe thead th {\n",
       "        text-align: right;\n",
       "    }\n",
       "</style>\n",
       "<table border=\"1\" class=\"dataframe\">\n",
       "  <thead>\n",
       "    <tr style=\"text-align: right;\">\n",
       "      <th></th>\n",
       "      <th>Average Price ($)</th>\n",
       "    </tr>\n",
       "    <tr>\n",
       "      <th>Season</th>\n",
       "      <th></th>\n",
       "    </tr>\n",
       "  </thead>\n",
       "  <tbody>\n",
       "    <tr>\n",
       "      <th>Fall</th>\n",
       "      <td>1.073429</td>\n",
       "    </tr>\n",
       "    <tr>\n",
       "      <th>Winter</th>\n",
       "      <td>1.072417</td>\n",
       "    </tr>\n",
       "    <tr>\n",
       "      <th>Spring</th>\n",
       "      <td>1.133019</td>\n",
       "    </tr>\n",
       "    <tr>\n",
       "      <th>Summer</th>\n",
       "      <td>1.086147</td>\n",
       "    </tr>\n",
       "  </tbody>\n",
       "</table>\n",
       "</div>"
      ],
      "text/plain": [
       "        Average Price ($)\n",
       "Season                   \n",
       "Fall             1.073429\n",
       "Winter           1.072417\n",
       "Spring           1.133019\n",
       "Summer           1.086147"
      ]
     },
     "metadata": {},
     "output_type": "display_data"
    }
   ],
   "source": [
    "\n",
    "#display(gasprices['Month'])\n",
    "for i in range(len(gasprices.index)):\n",
    "    if 3<= gasprices.at[i, 'Month'] <=5:\n",
    "        gasprices.at[i, 'Season']= 'Spring'\n",
    "    elif 6 <= gasprices.at[i, 'Month'] <=8:\n",
    "        gasprices.at[i, 'Season']= 'Summer'\n",
    "    elif 9 <= gasprices.at[i, 'Month'] <=11:\n",
    "        gasprices.at[i, 'Season']= 'Fall'\n",
    "    else:\n",
    "         gasprices.at[i, 'Season']= 'Winter'\n",
    "\n",
    "gasprices.set_index(['Date', 'Season'])\n",
    "seasonal_average = gasprices.pivot_table(index = 'Season', values= 'Price_pl')\n",
    "seasonal_average = seasonal_average.rename(columns={'Price_pl': 'Average Price ($)'})\n",
    "seasonal_average.reset_index(inplace=True)\n",
    "seasonal_average = seasonal_average.reindex([0,3,1,2])\n",
    "seasonal_average.set_index('Season', inplace=True)\n",
    "display(seasonal_average)\n"
   ]
  },
  {
   "cell_type": "markdown",
   "metadata": {},
   "source": [
    "4 Pivot, aggregate and plot timeseries"
   ]
  },
  {
   "cell_type": "markdown",
   "metadata": {},
   "source": [
    "1.) Importing TREB_data.xlsx as DataFrame and pivot"
   ]
  },
  {
   "cell_type": "code",
   "execution_count": 1535,
   "metadata": {},
   "outputs": [
    {
     "name": "stderr",
     "output_type": "stream",
     "text": [
      "/Library/Frameworks/Python.framework/Versions/3.10/lib/python3.10/site-packages/openpyxl/worksheet/_reader.py:312: UserWarning: Unknown extension is not supported and will be removed\n",
      "  warn(msg)\n"
     ]
    },
    {
     "data": {
      "text/html": [
       "<div>\n",
       "<style scoped>\n",
       "    .dataframe tbody tr th:only-of-type {\n",
       "        vertical-align: middle;\n",
       "    }\n",
       "\n",
       "    .dataframe tbody tr th {\n",
       "        vertical-align: top;\n",
       "    }\n",
       "\n",
       "    .dataframe thead th {\n",
       "        text-align: right;\n",
       "    }\n",
       "</style>\n",
       "<table border=\"1\" class=\"dataframe\">\n",
       "  <thead>\n",
       "    <tr style=\"text-align: right;\">\n",
       "      <th>Year</th>\n",
       "      <th>2013</th>\n",
       "      <th>2014</th>\n",
       "      <th>2015</th>\n",
       "      <th>2016</th>\n",
       "      <th>2017</th>\n",
       "    </tr>\n",
       "    <tr>\n",
       "      <th>Month</th>\n",
       "      <th></th>\n",
       "      <th></th>\n",
       "      <th></th>\n",
       "      <th></th>\n",
       "      <th></th>\n",
       "    </tr>\n",
       "  </thead>\n",
       "  <tbody>\n",
       "    <tr>\n",
       "      <th>January</th>\n",
       "      <td>4230</td>\n",
       "      <td>4103</td>\n",
       "      <td>4318</td>\n",
       "      <td>4640</td>\n",
       "      <td>5155</td>\n",
       "    </tr>\n",
       "    <tr>\n",
       "      <th>February</th>\n",
       "      <td>5615</td>\n",
       "      <td>5696</td>\n",
       "      <td>6294</td>\n",
       "      <td>7582</td>\n",
       "      <td>7955</td>\n",
       "    </tr>\n",
       "    <tr>\n",
       "      <th>March</th>\n",
       "      <td>7536</td>\n",
       "      <td>8052</td>\n",
       "      <td>8886</td>\n",
       "      <td>10260</td>\n",
       "      <td>11959</td>\n",
       "    </tr>\n",
       "    <tr>\n",
       "      <th>April</th>\n",
       "      <td>9537</td>\n",
       "      <td>9660</td>\n",
       "      <td>11254</td>\n",
       "      <td>12016</td>\n",
       "      <td>11470</td>\n",
       "    </tr>\n",
       "    <tr>\n",
       "      <th>May</th>\n",
       "      <td>9945</td>\n",
       "      <td>11013</td>\n",
       "      <td>11640</td>\n",
       "      <td>12789</td>\n",
       "      <td>10068</td>\n",
       "    </tr>\n",
       "    <tr>\n",
       "      <th>June</th>\n",
       "      <td>8821</td>\n",
       "      <td>10132</td>\n",
       "      <td>11905</td>\n",
       "      <td>12725</td>\n",
       "      <td>7896</td>\n",
       "    </tr>\n",
       "    <tr>\n",
       "      <th>July</th>\n",
       "      <td>8367</td>\n",
       "      <td>9152</td>\n",
       "      <td>9813</td>\n",
       "      <td>9929</td>\n",
       "      <td>5871</td>\n",
       "    </tr>\n",
       "    <tr>\n",
       "      <th>August</th>\n",
       "      <td>7390</td>\n",
       "      <td>7568</td>\n",
       "      <td>7943</td>\n",
       "      <td>9748</td>\n",
       "      <td>6310</td>\n",
       "    </tr>\n",
       "    <tr>\n",
       "      <th>September</th>\n",
       "      <td>7256</td>\n",
       "      <td>8001</td>\n",
       "      <td>8147</td>\n",
       "      <td>9828</td>\n",
       "      <td>6340</td>\n",
       "    </tr>\n",
       "    <tr>\n",
       "      <th>October</th>\n",
       "      <td>7940</td>\n",
       "      <td>8512</td>\n",
       "      <td>8759</td>\n",
       "      <td>9715</td>\n",
       "      <td>7087</td>\n",
       "    </tr>\n",
       "    <tr>\n",
       "      <th>November</th>\n",
       "      <td>6354</td>\n",
       "      <td>6475</td>\n",
       "      <td>7337</td>\n",
       "      <td>8503</td>\n",
       "      <td>7353</td>\n",
       "    </tr>\n",
       "    <tr>\n",
       "      <th>December</th>\n",
       "      <td>4058</td>\n",
       "      <td>4418</td>\n",
       "      <td>4917</td>\n",
       "      <td>5305</td>\n",
       "      <td>4930</td>\n",
       "    </tr>\n",
       "  </tbody>\n",
       "</table>\n",
       "</div>"
      ],
      "text/plain": [
       "Year       2013   2014   2015   2016   2017\n",
       "Month                                      \n",
       "January    4230   4103   4318   4640   5155\n",
       "February   5615   5696   6294   7582   7955\n",
       "March      7536   8052   8886  10260  11959\n",
       "April      9537   9660  11254  12016  11470\n",
       "May        9945  11013  11640  12789  10068\n",
       "June       8821  10132  11905  12725   7896\n",
       "July       8367   9152   9813   9929   5871\n",
       "August     7390   7568   7943   9748   6310\n",
       "September  7256   8001   8147   9828   6340\n",
       "October    7940   8512   8759   9715   7087\n",
       "November   6354   6475   7337   8503   7353\n",
       "December   4058   4418   4917   5305   4930"
      ]
     },
     "metadata": {},
     "output_type": "display_data"
    }
   ],
   "source": [
    "sales = pd.read_excel(r'/Users/trumanyuen/Documents/Python/TREB_Data.xlsx')\n",
    "#change user path to run the cell\n",
    "sales[['Month', 'Year']] = sales['MonthYear'].str.split('-', expand=True)\n",
    "sale_avg = sales.pivot_table(index = 'Month', columns = 'Year', values = 'Sales')\n",
    "sale_avg.reset_index(inplace=True)\n",
    "sale_avg = sale_avg.reindex([4,3,7,0,8,6,5,1,11,10,9,2])\n",
    "sale_avg.set_index('Month', inplace=True)\n",
    "display(sale_avg)"
   ]
  },
  {
   "cell_type": "markdown",
   "metadata": {},
   "source": [
    "2.) Plot figure with monthly sales vs Month"
   ]
  },
  {
   "cell_type": "code",
   "execution_count": 1536,
   "metadata": {},
   "outputs": [
    {
     "data": {
      "image/png": "[encoded data removed]",
      "text/plain": [
       "<Figure size 432x288 with 1 Axes>"
      ]
     },
     "metadata": {
      "needs_background": "light"
     },
     "output_type": "display_data"
    }
   ],
   "source": [
    "from datetime import datetime\n",
    "sales.dtypes\n",
    "for i, j in sales.iterrows():\n",
    "\n",
    "    sales.at[i, 'Month'] = datetime.strptime(j['Month'], '%B').month\n",
    "sale_avg2 = sales.pivot_table(index = 'Month', columns = 'Year', values = 'Sales')\n",
    "sale_avg2.plot(xticks= sale_avg2.index, kind= 'line')\n",
    "plt.ylabel(\"# of Sales\")\n",
    "plt.title(\"Monthly Sales vs. Month\")\n",
    "plt.show()"
   ]
  },
  {
   "cell_type": "markdown",
   "metadata": {},
   "source": [
    "3.) Find total sales per year and plot bar graph, by grouping by year (pre-pivot) and summing up the columns (post-pivot)"
   ]
  },
  {
   "cell_type": "code",
   "execution_count": 1537,
   "metadata": {},
   "outputs": [
    {
     "data": {
      "text/html": [
       "<div>\n",
       "<style scoped>\n",
       "    .dataframe tbody tr th:only-of-type {\n",
       "        vertical-align: middle;\n",
       "    }\n",
       "\n",
       "    .dataframe tbody tr th {\n",
       "        vertical-align: top;\n",
       "    }\n",
       "\n",
       "    .dataframe thead th {\n",
       "        text-align: right;\n",
       "    }\n",
       "</style>\n",
       "<table border=\"1\" class=\"dataframe\">\n",
       "  <thead>\n",
       "    <tr style=\"text-align: right;\">\n",
       "      <th></th>\n",
       "      <th>Sales</th>\n",
       "    </tr>\n",
       "    <tr>\n",
       "      <th>Year</th>\n",
       "      <th></th>\n",
       "    </tr>\n",
       "  </thead>\n",
       "  <tbody>\n",
       "    <tr>\n",
       "      <th>2013</th>\n",
       "      <td>7254.083333</td>\n",
       "    </tr>\n",
       "    <tr>\n",
       "      <th>2014</th>\n",
       "      <td>7731.833333</td>\n",
       "    </tr>\n",
       "    <tr>\n",
       "      <th>2015</th>\n",
       "      <td>8434.416667</td>\n",
       "    </tr>\n",
       "    <tr>\n",
       "      <th>2016</th>\n",
       "      <td>9420.000000</td>\n",
       "    </tr>\n",
       "    <tr>\n",
       "      <th>2017</th>\n",
       "      <td>7699.500000</td>\n",
       "    </tr>\n",
       "  </tbody>\n",
       "</table>\n",
       "</div>"
      ],
      "text/plain": [
       "            Sales\n",
       "Year             \n",
       "2013  7254.083333\n",
       "2014  7731.833333\n",
       "2015  8434.416667\n",
       "2016  9420.000000\n",
       "2017  7699.500000"
      ]
     },
     "metadata": {},
     "output_type": "display_data"
    },
    {
     "data": {
      "image/png": "[encoded data removed]",
      "text/plain": [
       "<Figure size 432x288 with 1 Axes>"
      ]
     },
     "metadata": {
      "needs_background": "light"
     },
     "output_type": "display_data"
    },
    {
     "data": {
      "text/html": [
       "<div>\n",
       "<style scoped>\n",
       "    .dataframe tbody tr th:only-of-type {\n",
       "        vertical-align: middle;\n",
       "    }\n",
       "\n",
       "    .dataframe tbody tr th {\n",
       "        vertical-align: top;\n",
       "    }\n",
       "\n",
       "    .dataframe thead th {\n",
       "        text-align: right;\n",
       "    }\n",
       "</style>\n",
       "<table border=\"1\" class=\"dataframe\">\n",
       "  <thead>\n",
       "    <tr style=\"text-align: right;\">\n",
       "      <th></th>\n",
       "      <th>Sales</th>\n",
       "    </tr>\n",
       "    <tr>\n",
       "      <th>Year</th>\n",
       "      <th></th>\n",
       "    </tr>\n",
       "  </thead>\n",
       "  <tbody>\n",
       "    <tr>\n",
       "      <th>2013</th>\n",
       "      <td>7254.083333</td>\n",
       "    </tr>\n",
       "    <tr>\n",
       "      <th>2014</th>\n",
       "      <td>7731.833333</td>\n",
       "    </tr>\n",
       "    <tr>\n",
       "      <th>2015</th>\n",
       "      <td>8434.416667</td>\n",
       "    </tr>\n",
       "    <tr>\n",
       "      <th>2016</th>\n",
       "      <td>9420.000000</td>\n",
       "    </tr>\n",
       "    <tr>\n",
       "      <th>2017</th>\n",
       "      <td>7699.500000</td>\n",
       "    </tr>\n",
       "  </tbody>\n",
       "</table>\n",
       "</div>"
      ],
      "text/plain": [
       "            Sales\n",
       "Year             \n",
       "2013  7254.083333\n",
       "2014  7731.833333\n",
       "2015  8434.416667\n",
       "2016  9420.000000\n",
       "2017  7699.500000"
      ]
     },
     "metadata": {},
     "output_type": "display_data"
    },
    {
     "data": {
      "image/png": "[encoded data removed]",
      "text/plain": [
       "<Figure size 432x288 with 1 Axes>"
      ]
     },
     "metadata": {
      "needs_background": "light"
     },
     "output_type": "display_data"
    }
   ],
   "source": [
    "yearly_avg = sales.groupby(['Year']).mean()\n",
    "yearly_avg = yearly_avg.drop(['AveragePrice'], axis = 1)\n",
    "display(yearly_avg)\n",
    "yearly_avg.plot.bar()\n",
    "plt.ylabel(\"# of Sales\")\n",
    "plt.title(\"Sales Per Year\")\n",
    "plt.show()\n",
    "yearly_avg2 = sales.pivot_table(index = 'Year', values = 'Sales')\n",
    "display(yearly_avg2)\n",
    "yearly_avg2.plot.bar()\n",
    "plt.ylabel(\"# of Sales\")\n",
    "plt.title(\"Sales Per Year\")\n",
    "plt.show()\n"
   ]
  }
 ],
 "metadata": {
  "interpreter": {
   "hash": "aee8b7b246df8f9039afb4144a1f6fd8d2ca17a180786b69acc140d282b71a49"
  },
  "kernelspec": {
   "display_name": "Python 3.10.4 64-bit",
   "language": "python",
   "name": "python3"
  },
  "language_info": {
   "codemirror_mode": {
    "name": "ipython",
    "version": 3
   },
   "file_extension": ".py",
   "mimetype": "text/x-python",
   "name": "python",
   "nbconvert_exporter": "python",
   "pygments_lexer": "ipython3",
   "version": "3.10.4"
  },
  "orig_nbformat": 4
 },
 "nbformat": 4,
 "nbformat_minor": 2
}
